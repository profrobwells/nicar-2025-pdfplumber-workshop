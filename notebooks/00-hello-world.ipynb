{
 "cells": [
  {
   "cell_type": "markdown",
   "id": "4b3ffa80-bbb2-48ce-820e-efddb6d27dd8",
   "metadata": {},
   "source": [
    "# Hello World: `pdfplumber` basics"
   ]
  },
  {
   "cell_type": "markdown",
   "id": "5d97e74c-628b-4fd9-9c0e-1926f8a6bc98",
   "metadata": {},
   "source": [
    "## First things first"
   ]
  },
  {
   "cell_type": "markdown",
   "id": "8691bea2-49f3-43d7-a73f-8f71a97292bf",
   "metadata": {},
   "source": [
    "#### Load the library"
   ]
  },
  {
   "cell_type": "code",
   "execution_count": 1,
   "id": "aa8f011a-1554-41eb-8ea7-d1504537facf",
   "metadata": {
    "tags": []
   },
   "outputs": [],
   "source": [
    "import pdfplumber"
   ]
  },
  {
   "cell_type": "markdown",
   "id": "155ce5c7-d80b-4d62-af5d-851fa481487c",
   "metadata": {},
   "source": [
    "#### Open the PDF"
   ]
  },
  {
   "cell_type": "code",
   "execution_count": 2,
   "id": "ed175923-f07d-4ee6-9ea3-71f7006eeff1",
   "metadata": {
    "tags": []
   },
   "outputs": [],
   "source": [
    "pdf = pdfplumber.open(\"../pdfs/00-hello-world.pdf\")"
   ]
  },
  {
   "cell_type": "markdown",
   "id": "792f36e3-c44c-473e-b8b2-9f541ad25fa8",
   "metadata": {},
   "source": [
    "#### How many pages in the PDF?"
   ]
  },
  {
   "cell_type": "code",
   "execution_count": 3,
   "id": "e73e8e0d-f052-4d3d-97d0-b0b3a32aa31a",
   "metadata": {
    "tags": []
   },
   "outputs": [
    {
     "data": {
      "text/plain": [
       "1"
      ]
     },
     "execution_count": 3,
     "metadata": {},
     "output_type": "execute_result"
    }
   ],
   "source": [
    "len(pdf.pages)"
   ]
  },
  {
   "cell_type": "markdown",
   "id": "20b1035d-2b15-485d-a7fa-dd9c42ca2639",
   "metadata": {},
   "source": [
    "#### Select that first/only page"
   ]
  },
  {
   "cell_type": "code",
   "execution_count": 4,
   "id": "eda739c7-75ac-400f-a572-96222c90b057",
   "metadata": {
    "tags": []
   },
   "outputs": [
    {
     "data": {
      "text/plain": [
       "<Page:1>"
      ]
     },
     "execution_count": 4,
     "metadata": {},
     "output_type": "execute_result"
    }
   ],
   "source": [
    "page = pdf.pages[0]\n",
    "page"
   ]
  },
  {
   "cell_type": "markdown",
   "id": "73318989-34c0-407a-bc1b-c798bb938eaf",
   "metadata": {},
   "source": [
    "## Now let's extract the text"
   ]
  },
  {
   "cell_type": "code",
   "execution_count": 5,
   "id": "7007647b-67b2-4fed-8632-c86d8fb01381",
   "metadata": {
    "tags": []
   },
   "outputs": [
    {
     "data": {
      "text/plain": [
       "'Hello, World!'"
      ]
     },
     "execution_count": 5,
     "metadata": {},
     "output_type": "execute_result"
    }
   ],
   "source": [
    "page.extract_text()"
   ]
  },
  {
   "cell_type": "markdown",
   "id": "719f952d-6afb-4647-8a44-03bb4147bdbf",
   "metadata": {},
   "source": [
    "## Where does that text come from?\n",
    "\n",
    "The `page.chars` list:"
   ]
  },
  {
   "cell_type": "code",
   "execution_count": 6,
   "id": "05561bf2-fd51-4236-9bc9-f13b45b47443",
   "metadata": {
    "tags": []
   },
   "outputs": [
    {
     "data": {
      "text/plain": [
       "13"
      ]
     },
     "execution_count": 6,
     "metadata": {},
     "output_type": "execute_result"
    }
   ],
   "source": [
    "len(page.chars)"
   ]
  },
  {
   "cell_type": "code",
   "execution_count": 7,
   "id": "29c8c3f3-47ee-4a22-813a-f0b8b51037cc",
   "metadata": {
    "tags": []
   },
   "outputs": [
    {
     "data": {
      "text/plain": [
       "['H', 'e', 'l', 'l', 'o', ',', ' ', 'W', 'o', 'r', 'l', 'd', '!']"
      ]
     },
     "execution_count": 7,
     "metadata": {},
     "output_type": "execute_result"
    }
   ],
   "source": [
    "[char[\"text\"] for char in page.chars]"
   ]
  },
  {
   "cell_type": "markdown",
   "id": "312f3c64-38d3-418b-8318-2e54532ae3ca",
   "metadata": {},
   "source": [
    "#### What does an individual character look like?"
   ]
  },
  {
   "cell_type": "code",
   "execution_count": 8,
   "id": "b9a8ff59-2c0a-4be7-ae75-b86e40067996",
   "metadata": {},
   "outputs": [
    {
     "data": {
      "text/plain": [
       "{'matrix': (1, 0, 0, 1, 50, 260),\n",
       " 'fontname': 'Times-Roman',\n",
       " 'adv': 25.991999999999997,\n",
       " 'upright': True,\n",
       " 'x0': 50.0,\n",
       " 'y0': 252.188,\n",
       " 'x1': 75.99199999999999,\n",
       " 'y1': 288.188,\n",
       " 'width': 25.99199999999999,\n",
       " 'height': 36.0,\n",
       " 'size': 36.0,\n",
       " 'mcid': None,\n",
       " 'tag': None,\n",
       " 'object_type': 'char',\n",
       " 'page_number': 1,\n",
       " 'ncs': 'DeviceRGB',\n",
       " 'text': 'H',\n",
       " 'stroking_color': None,\n",
       " 'stroking_pattern': None,\n",
       " 'non_stroking_color': (0.2, 0.5, 0.2),\n",
       " 'non_stroking_pattern': None,\n",
       " 'top': 31.812000000000012,\n",
       " 'bottom': 67.81200000000001,\n",
       " 'doctop': 31.812000000000012}"
      ]
     },
     "execution_count": 8,
     "metadata": {},
     "output_type": "execute_result"
    }
   ],
   "source": [
    "page.chars[0]"
   ]
  },
  {
   "cell_type": "markdown",
   "id": "2909b7b9-c744-448b-acb3-30488a562a6b",
   "metadata": {},
   "source": [
    "## Let's examine the graphical features\n",
    "(I.e., lines, rectangles, and \"curves\")"
   ]
  },
  {
   "cell_type": "markdown",
   "id": "8862a8f8",
   "metadata": {},
   "source": [
    "#### Lines"
   ]
  },
  {
   "cell_type": "code",
   "execution_count": 9,
   "id": "e7d54b67",
   "metadata": {
    "tags": []
   },
   "outputs": [
    {
     "data": {
      "text/plain": [
       "[{'x0': 50,\n",
       "  'y0': 160,\n",
       "  'x1': 350,\n",
       "  'y1': 160,\n",
       "  'width': 300,\n",
       "  'height': 0,\n",
       "  'pts': [(50, 160), (350, 160)],\n",
       "  'linewidth': 0,\n",
       "  'stroke': True,\n",
       "  'fill': False,\n",
       "  'evenodd': False,\n",
       "  'stroking_color': None,\n",
       "  'non_stroking_color': None,\n",
       "  'mcid': None,\n",
       "  'tag': None,\n",
       "  'object_type': 'line',\n",
       "  'page_number': 1,\n",
       "  'stroking_pattern': None,\n",
       "  'non_stroking_pattern': None,\n",
       "  'path': [('m', (50.0, 160.0)), ('l', (350.0, 160.0))],\n",
       "  'dash': None,\n",
       "  'top': 160,\n",
       "  'bottom': 160,\n",
       "  'doctop': 160},\n",
       " {'x0': 50,\n",
       "  'y0': 140,\n",
       "  'x1': 350,\n",
       "  'y1': 140,\n",
       "  'width': 300,\n",
       "  'height': 0,\n",
       "  'pts': [(50, 180), (350, 180)],\n",
       "  'linewidth': 0,\n",
       "  'stroke': True,\n",
       "  'fill': False,\n",
       "  'evenodd': False,\n",
       "  'stroking_color': None,\n",
       "  'non_stroking_color': None,\n",
       "  'mcid': None,\n",
       "  'tag': None,\n",
       "  'object_type': 'line',\n",
       "  'page_number': 1,\n",
       "  'stroking_pattern': None,\n",
       "  'non_stroking_pattern': None,\n",
       "  'path': [('m', (50.0, 180.0)), ('l', (350.0, 180.0))],\n",
       "  'dash': None,\n",
       "  'top': 180,\n",
       "  'bottom': 180,\n",
       "  'doctop': 180}]"
      ]
     },
     "execution_count": 9,
     "metadata": {},
     "output_type": "execute_result"
    }
   ],
   "source": [
    "page.lines"
   ]
  },
  {
   "cell_type": "markdown",
   "id": "8117da81",
   "metadata": {},
   "source": [
    "#### Rectangles"
   ]
  },
  {
   "cell_type": "code",
   "execution_count": 10,
   "id": "6e074f26",
   "metadata": {
    "tags": []
   },
   "outputs": [
    {
     "data": {
      "text/plain": [
       "[{'x0': 50,\n",
       "  'y0': 200,\n",
       "  'x1': 250,\n",
       "  'y1': 220,\n",
       "  'width': 200,\n",
       "  'height': 20,\n",
       "  'pts': [(50, 120), (250, 120), (250, 100), (50, 100)],\n",
       "  'linewidth': 0,\n",
       "  'stroke': True,\n",
       "  'fill': True,\n",
       "  'evenodd': False,\n",
       "  'stroking_color': (0.25, 0.25, 0.25),\n",
       "  'non_stroking_color': (0.9, 0.9, 0.9),\n",
       "  'mcid': None,\n",
       "  'tag': None,\n",
       "  'object_type': 'rect',\n",
       "  'page_number': 1,\n",
       "  'stroking_pattern': None,\n",
       "  'non_stroking_pattern': None,\n",
       "  'path': [('m', (50.0, 120.0)),\n",
       "   ('l', (250.0, 120.0)),\n",
       "   ('l', (250.0, 100.0)),\n",
       "   ('l', (50.0, 100.0)),\n",
       "   ('h',)],\n",
       "  'dash': None,\n",
       "  'top': 100,\n",
       "  'bottom': 120,\n",
       "  'doctop': 100}]"
      ]
     },
     "execution_count": 10,
     "metadata": {},
     "output_type": "execute_result"
    }
   ],
   "source": [
    "page.rects"
   ]
  },
  {
   "cell_type": "markdown",
   "id": "f759a381",
   "metadata": {},
   "source": [
    "#### &ldquo;Curves&rdquo;\n",
    "\n",
    "(Curves are paths that `(a)` have more than 1 point, and `(b)` do not form a rectangle.)"
   ]
  },
  {
   "cell_type": "code",
   "execution_count": 11,
   "id": "5d82c2bd",
   "metadata": {},
   "outputs": [
    {
     "data": {
      "text/plain": [
       "[{'x0': 50,\n",
       "  'y0': 50,\n",
       "  'x1': 150,\n",
       "  'y1': 100,\n",
       "  'width': 100,\n",
       "  'height': 50,\n",
       "  'pts': [(50, 220), (70, 270), (90, 220), (110, 270), (130, 220), (150, 270)],\n",
       "  'linewidth': 2,\n",
       "  'stroke': True,\n",
       "  'fill': False,\n",
       "  'evenodd': False,\n",
       "  'stroking_color': None,\n",
       "  'non_stroking_color': None,\n",
       "  'mcid': None,\n",
       "  'tag': None,\n",
       "  'object_type': 'curve',\n",
       "  'page_number': 1,\n",
       "  'stroking_pattern': None,\n",
       "  'non_stroking_pattern': None,\n",
       "  'path': [('m', (50.0, 220.0)),\n",
       "   ('l', (70.0, 270.0)),\n",
       "   ('l', (90.0, 220.0)),\n",
       "   ('l', (110.0, 270.0)),\n",
       "   ('l', (130.0, 220.0)),\n",
       "   ('l', (150.0, 270.0))],\n",
       "  'dash': None,\n",
       "  'top': 220,\n",
       "  'bottom': 270,\n",
       "  'doctop': 220}]"
      ]
     },
     "execution_count": 11,
     "metadata": {},
     "output_type": "execute_result"
    }
   ],
   "source": [
    "page.curves"
   ]
  },
  {
   "cell_type": "markdown",
   "id": "46bd44ed-5b2a-4d33-a092-423ee121ddeb",
   "metadata": {},
   "source": [
    "## Let's use the visual debugging tools"
   ]
  },
  {
   "cell_type": "markdown",
   "id": "4818008e-b161-4e24-97e7-4c791850d02c",
   "metadata": {},
   "source": [
    "The first step is to create an image of the page:"
   ]
  },
  {
   "cell_type": "code",
   "execution_count": 12,
   "id": "0b89ee97-ae0d-44e1-bf63-20217a927111",
   "metadata": {
    "tags": []
   },
   "outputs": [
    {
     "data": {
      "image/png": "[encoded data removed]",
      "text/plain": [
       "<pdfplumber.display.PageImage at 0x106042cc0>"
      ]
     },
     "execution_count": 12,
     "metadata": {},
     "output_type": "execute_result"
    }
   ],
   "source": [
    "im = page.to_image()\n",
    "im"
   ]
  },
  {
   "cell_type": "markdown",
   "id": "9bb15645",
   "metadata": {},
   "source": [
    "From there, we can use the image object's various `.draw_*` methods to see what the PDF parser sees. For example:\n",
    "\n",
    "#### Flag the `.chars`"
   ]
  },
  {
   "cell_type": "code",
   "execution_count": 13,
   "id": "6fb762fa",
   "metadata": {
    "tags": []
   },
   "outputs": [
    {
     "data": {
      "image/png": "[encoded data removed]",
      "text/plain": [
       "<pdfplumber.display.PageImage at 0x106042cc0>"
      ]
     },
     "execution_count": 13,
     "metadata": {},
     "output_type": "execute_result"
    }
   ],
   "source": [
    "im.draw_rects(page.chars)"
   ]
  },
  {
   "cell_type": "markdown",
   "id": "03e44dfd-cc62-4b67-8047-90935cfaa7eb",
   "metadata": {},
   "source": [
    "#### Reset the image\n",
    "\n",
    "The things we draw on the page accumulate ... until we call the image's `.reset()` method:"
   ]
  },
  {
   "cell_type": "code",
   "execution_count": 14,
   "id": "49e40adb-41d8-48bd-a2af-f292d82e3966",
   "metadata": {
    "tags": []
   },
   "outputs": [
    {
     "data": {
      "image/png": "[encoded data removed]",
      "text/plain": [
       "<pdfplumber.display.PageImage at 0x106042cc0>"
      ]
     },
     "execution_count": 14,
     "metadata": {},
     "output_type": "execute_result"
    }
   ],
   "source": [
    "im.reset()"
   ]
  },
  {
   "cell_type": "markdown",
   "id": "14a8de69",
   "metadata": {},
   "source": [
    "#### Flag the `.rects`\n",
    "\n",
    "We can also adjust the stroke color/width and fill color, like so:"
   ]
  },
  {
   "cell_type": "code",
   "execution_count": 15,
   "id": "18328a3c",
   "metadata": {
    "tags": []
   },
   "outputs": [
    {
     "data": {
      "image/png": "[encoded data removed]",
      "text/plain": [
       "<pdfplumber.display.PageImage at 0x106042cc0>"
      ]
     },
     "execution_count": 15,
     "metadata": {},
     "output_type": "execute_result"
    }
   ],
   "source": [
    "im.reset()\n",
    "im.draw_rects(\n",
    "    page.rects,\n",
    "    stroke=\"orange\",  # Colors can be (standard) names\n",
    "    fill=(0, 255, 0, 50),  # or RGB(A) tuples, with values 0–255\n",
    "    stroke_width=3,\n",
    ")"
   ]
  },
  {
   "cell_type": "markdown",
   "id": "59b04ec8-a8c5-4ae7-a5d9-62a93a99b9cf",
   "metadata": {},
   "source": [
    "#### Flag the `.curves`"
   ]
  },
  {
   "cell_type": "code",
   "execution_count": 16,
   "id": "56106468-a048-4a72-8a63-20e81a49921a",
   "metadata": {
    "tags": []
   },
   "outputs": [
    {
     "data": {
      "image/png": "[encoded data removed]",
      "text/plain": [
       "<pdfplumber.display.PageImage at 0x106042cc0>"
      ]
     },
     "execution_count": 16,
     "metadata": {},
     "output_type": "execute_result"
    }
   ],
   "source": [
    "im.reset()\n",
    "im.draw_rects(page.curves)"
   ]
  },
  {
   "cell_type": "markdown",
   "id": "e622674c-b459-4d59-a408-ef22fe5b44c8",
   "metadata": {},
   "source": [
    "## One more key feature: Cropping\n",
    "\n",
    "When you're parsing a PDF, you often want to focus on just one region of the document. The `page.crop(bounding_box)` method lets you do that.\n",
    "\n",
    "The method expects to receive a bounding box in the format `(x0, top, x1, bottom)`. Here's an arbitrary example:"
   ]
  },
  {
   "cell_type": "code",
   "execution_count": 17,
   "id": "fc4e6147-05f8-4f91-993c-80101618d8e9",
   "metadata": {
    "tags": []
   },
   "outputs": [
    {
     "data": {
      "image/png": "[encoded data removed]",
      "text/plain": [
       "<pdfplumber.display.PageImage at 0x106041580>"
      ]
     },
     "execution_count": 17,
     "metadata": {},
     "output_type": "execute_result"
    }
   ],
   "source": [
    "bbox = (10, 30, 150, 300)\n",
    "\n",
    "page.crop(bbox).to_image()"
   ]
  },
  {
   "cell_type": "markdown",
   "id": "3d0cda27-e452-430e-a26b-239bd4092ef6",
   "metadata": {},
   "source": [
    "A more useful technique is to base the bounding box on information you extract from the PDF itself. For instance:"
   ]
  },
  {
   "cell_type": "code",
   "execution_count": 18,
   "id": "55662ebc-aeec-4c5f-b026-a0e4f90fea3d",
   "metadata": {
    "tags": []
   },
   "outputs": [
    {
     "name": "stdout",
     "output_type": "stream",
     "text": [
      "(50, 220, 150, 270)\n"
     ]
    }
   ],
   "source": [
    "curve = page.curves[0]\n",
    "\n",
    "curve_bbox = pdfplumber.utils.obj_to_bbox(curve)\n",
    "\n",
    "print(curve_bbox)"
   ]
  },
  {
   "cell_type": "code",
   "execution_count": 19,
   "id": "f8c7489e-155c-42f5-87b4-de69d6caa2d0",
   "metadata": {},
   "outputs": [
    {
     "data": {
      "image/png": "[encoded data removed]",
      "text/plain": [
       "<pdfplumber.display.PageImage at 0x106043140>"
      ]
     },
     "execution_count": 19,
     "metadata": {},
     "output_type": "execute_result"
    }
   ],
   "source": [
    "page.crop(curve_bbox).to_image()"
   ]
  },
  {
   "cell_type": "markdown",
   "id": "7b48cbdd-a0a9-4218-9787-0a9d5da00c5a",
   "metadata": {},
   "source": [
    "We'll use this technique, and others, in the [next notebook](./01-practice.ipynb)."
   ]
  },
  {
   "cell_type": "markdown",
   "id": "22a0687d-4cbf-4f64-95a1-f28e4d89967e",
   "metadata": {},
   "source": [
    "---\n",
    "\n",
    "---\n",
    "\n",
    "---"
   ]
  }
 ],
 "metadata": {
  "kernelspec": {
   "display_name": "Python 3 (ipykernel)",
   "language": "python",
   "name": "python3"
  },
  "language_info": {
   "codemirror_mode": {
    "name": "ipython",
    "version": 3
   },
   "file_extension": ".py",
   "mimetype": "text/x-python",
   "name": "python",
   "nbconvert_exporter": "python",
   "pygments_lexer": "ipython3",
   "version": "3.11.4"
  }
 },
 "nbformat": 4,
 "nbformat_minor": 5
}
